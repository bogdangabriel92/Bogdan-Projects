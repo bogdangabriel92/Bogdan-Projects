{
 "cells": [
  {
   "cell_type": "markdown",
   "id": "11cd3198",
   "metadata": {},
   "source": [
    "# Project 2 — Subscriptions Churn Analysis"
   ]
  },
  {
   "cell_type": "code",
   "execution_count": null,
   "id": "bbca7645",
   "metadata": {},
   "outputs": [],
   "source": [
    "import pandas as pd\n",
    "import numpy as np\n",
    "customers = pd.read_csv(\"../data_raw/customers.csv\", parse_dates=[\"signup_date\"])\n",
    "subscriptions = pd.read_csv(\"../data_raw/subscriptions.csv\", parse_dates=[\"period_start\",\"period_end\"])\n",
    "usage = pd.read_csv(\"../data_raw/usage.csv\", parse_dates=[\"month\"])\n",
    "tickets = pd.read_csv(\"../data_raw/tickets.csv\", parse_dates=[\"opened_at\",\"closed_at\"])\n",
    "surveys = pd.read_csv(\"../data_raw/surveys.csv\", parse_dates=[\"survey_date\"])\n",
    "customers.head()"
   ]
  },
  {
   "cell_type": "markdown",
   "id": "0135a5da",
   "metadata": {},
   "source": [
    "## Dataset analitic lunar"
   ]
  },
  {
   "cell_type": "code",
   "execution_count": null,
   "id": "070a84b9",
   "metadata": {},
   "outputs": [],
   "source": [
    "active = (subscriptions[subscriptions[\"is_active\"]==1]\n",
    "          .assign(month=subscriptions[\"period_start\"].dt.to_period(\"M\"))\n",
    "          .groupby([\"customer_id\",\"month\"]).size().reset_index(name=\"active\"))\n",
    "active[\"active\"]=1\n",
    "u = (usage.assign(month=usage[\"month\"].astype('period[M]'))\n",
    "          .groupby([\"customer_id\",\"month\"]).agg(events=(\"events\",\"sum\"),\n",
    "                                               minutes=(\"minutes_used\",\"sum\"),\n",
    "                                               featX=(\"feature_X_used\",\"sum\")).reset_index())\n",
    "t = (tickets.assign(month=tickets[\"opened_at\"].dt.to_period(\"M\"),\n",
    "                    duration_hours=(tickets[\"closed_at\"]-tickets[\"opened_at\"]).dt.total_seconds()/3600)\n",
    "            .groupby([\"customer_id\",\"month\"])\n",
    "            .agg(tickets=(\"ticket_id\",\"nunique\"),\n",
    "                 avg_close_h=(\"duration_hours\",\"mean\")).reset_index())\n",
    "df = (active.merge(u, on=[\"customer_id\",\"month\"], how=\"left\")\n",
    "            .merge(t, on=[\"customer_id\",\"month\"], how=\"left\")\n",
    "            .fillna({\"events\":0,\"minutes\":0,\"featX\":0,\"tickets\":0,\"avg_close_h\":0}))\n",
    "df.head()"
   ]
  },
  {
   "cell_type": "markdown",
   "id": "8f5dfe29",
   "metadata": {},
   "source": [
    "## Etichetă churn în t+1 și t-test"
   ]
  },
  {
   "cell_type": "code",
   "execution_count": null,
   "id": "74a84df6",
   "metadata": {},
   "outputs": [],
   "source": [
    "next_active = active[[\"customer_id\",\"month\"]].rename(columns={\"month\":\"month_next\"})\n",
    "df2 = df.copy()\n",
    "df2[\"month_next\"]=df2[\"month\"]+1\n",
    "df2 = df2.merge(next_active.assign(active_next=1), on=[\"customer_id\",\"month_next\"], how=\"left\")\n",
    "df2[\"churn\"] = (df2[\"active_next\"].isna()).astype(int)\n",
    "from scipy.stats import ttest_ind\n",
    "t_stat, p_val = ttest_ind(df2.loc[df2.churn==1,\"minutes\"],\n",
    "                          df2.loc[df2.churn==0,\"minutes\"],\n",
    "                          equal_var=False, nan_policy='omit')\n",
    "p_val"
   ]
  }
 ],
 "metadata": {},
 "nbformat": 4,
 "nbformat_minor": 5
}
