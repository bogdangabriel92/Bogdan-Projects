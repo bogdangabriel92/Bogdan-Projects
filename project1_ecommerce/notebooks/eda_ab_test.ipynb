{
 "cells": [
  {
   "cell_type": "markdown",
   "id": "3ea0fc82",
   "metadata": {},
   "source": [
    "# Project 1 — E‑Commerce EDA & A/B Stats"
   ]
  },
  {
   "cell_type": "code",
   "execution_count": null,
   "id": "a82e7eca",
   "metadata": {},
   "outputs": [],
   "source": [
    "import pandas as pd\n",
    "import numpy as np\n",
    "customers = pd.read_csv(\"../data_raw/customers.csv\", parse_dates=[\"signup_date\"])\n",
    "products = pd.read_csv(\"../data_raw/products.csv\")\n",
    "orders = pd.read_csv(\"../data_raw/orders.csv\", parse_dates=[\"order_date\"])\n",
    "order_items = pd.read_csv(\"../data_raw/order_items.csv\")\n",
    "sessions = pd.read_csv(\"../data_raw/sessions.csv\", parse_dates=[\"session_date\"])\n",
    "customers.head()"
   ]
  },
  {
   "cell_type": "markdown",
   "id": "c0dfc063",
   "metadata": {},
   "source": [
    "## KPI: AOV zilnic"
   ]
  },
  {
   "cell_type": "code",
   "execution_count": null,
   "id": "8ee5890a",
   "metadata": {},
   "outputs": [],
   "source": [
    "aov_daily = (orders.assign(day=orders[\"order_date\"].dt.date)\n",
    "             .groupby(\"day\")\n",
    "             .agg(orders=(\"order_id\",\"nunique\"), revenue=(\"revenue\",\"sum\"), aov=(\"revenue\",\"mean\"))\n",
    "             .reset_index())\n",
    "aov_daily.head()"
   ]
  },
  {
   "cell_type": "markdown",
   "id": "cf650e7e",
   "metadata": {},
   "source": [
    "## Cohorts"
   ]
  },
  {
   "cell_type": "code",
   "execution_count": null,
   "id": "3863bb8d",
   "metadata": {},
   "outputs": [],
   "source": [
    "orders[\"order_month\"] = orders[\"order_date\"].dt.to_period(\"M\")\n",
    "first_order = (orders.groupby(\"customer_id\")[\"order_date\"].min().dt.to_period(\"M\").rename(\"cohort\"))\n",
    "orders = orders.join(first_order, on=\"customer_id\")\n",
    "orders[\"cohort_index\"] = (orders[\"order_month\"] - orders[\"cohort\"]).apply(lambda x: x.n)\n",
    "cohort_pivot = (orders.groupby([\"cohort\",\"cohort_index\"])[\"customer_id\"].nunique().unstack(fill_value=0))\n",
    "cohort_pivot.head()"
   ]
  },
  {
   "cell_type": "markdown",
   "id": "2ffbcf62",
   "metadata": {},
   "source": [
    "## A/B Test — Conversie"
   ]
  },
  {
   "cell_type": "code",
   "execution_count": null,
   "id": "75d0a4a0",
   "metadata": {},
   "outputs": [],
   "source": [
    "import pandas as pd\n",
    "from scipy.stats import chi2_contingency\n",
    "tab = pd.crosstab(sessions[\"is_variant_B\"], sessions[\"converted\"])\n",
    "chi2, p, dof, exp = chi2_contingency(tab)\n",
    "p"
   ]
  }
 ],
 "metadata": {},
 "nbformat": 4,
 "nbformat_minor": 5
}
